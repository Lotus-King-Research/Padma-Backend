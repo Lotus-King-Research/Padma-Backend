{
 "cells": [
  {
   "cell_type": "code",
   "execution_count": 1,
   "id": "b7c631bd",
   "metadata": {},
   "outputs": [
    {
     "name": "stderr",
     "output_type": "stream",
     "text": [
      "/Users/upstairs/dev/Padma-Backend/app/utils/create_dictionary.py:40: FutureWarning: The default value of regex will change from True to False in a future version. In addition, single character regular expressions will *not* be treated as literal strings when regex=True.\n",
      "  dict_df['source'] = dict_df['source'].str.replace('[', '')\n",
      "/Users/upstairs/dev/Padma-Backend/app/utils/create_dictionary.py:41: FutureWarning: The default value of regex will change from True to False in a future version. In addition, single character regular expressions will *not* be treated as literal strings when regex=True.\n",
      "  dict_df['source'] = dict_df['source'].str.replace(']', '')\n"
     ]
    },
    {
     "name": "stdout",
     "output_type": "stream",
     "text": [
      "Loading Trie... (2s.)\n"
     ]
    }
   ],
   "source": [
    "from app.utils.initialize import initialize_dictionary"
   ]
  },
  {
   "cell_type": "code",
   "execution_count": 3,
   "id": "d959506b",
   "metadata": {},
   "outputs": [
    {
     "name": "stderr",
     "output_type": "stream",
     "text": [
      "/Users/upstairs/dev/Padma-Backend/app/utils/create_dictionary.py:40: FutureWarning: The default value of regex will change from True to False in a future version. In addition, single character regular expressions will *not* be treated as literal strings when regex=True.\n",
      "  dict_df['source'] = dict_df['source'].str.replace('[', '')\n",
      "/Users/upstairs/dev/Padma-Backend/app/utils/create_dictionary.py:41: FutureWarning: The default value of regex will change from True to False in a future version. In addition, single character regular expressions will *not* be treated as literal strings when regex=True.\n",
      "  dict_df['source'] = dict_df['source'].str.replace(']', '')\n"
     ]
    }
   ],
   "source": [
    "dictionary = initialize_dictionary()"
   ]
  },
  {
   "cell_type": "code",
   "execution_count": 16,
   "id": "2cfb66de",
   "metadata": {},
   "outputs": [
    {
     "data": {
      "text/html": [
       "<div>\n",
       "<style scoped>\n",
       "    .dataframe tbody tr th:only-of-type {\n",
       "        vertical-align: middle;\n",
       "    }\n",
       "\n",
       "    .dataframe tbody tr th {\n",
       "        vertical-align: top;\n",
       "    }\n",
       "\n",
       "    .dataframe thead th {\n",
       "        text-align: right;\n",
       "    }\n",
       "</style>\n",
       "<table border=\"1\" class=\"dataframe\">\n",
       "  <thead>\n",
       "    <tr style=\"text-align: right;\">\n",
       "      <th></th>\n",
       "      <th>word</th>\n",
       "      <th>meaning</th>\n",
       "      <th>source</th>\n",
       "    </tr>\n",
       "  </thead>\n",
       "  <tbody>\n",
       "    <tr>\n",
       "      <th>1</th>\n",
       "      <td>ཡན་</td>\n",
       "      <td>linking verb. normally used with first person ...</td>\n",
       "      <td>GRM</td>\n",
       "    </tr>\n",
       "    <tr>\n",
       "      <th>2</th>\n",
       "      <td>རེད་</td>\n",
       "      <td>linking verb. usually used with third person s...</td>\n",
       "      <td>GRM</td>\n",
       "    </tr>\n",
       "    <tr>\n",
       "      <th>3</th>\n",
       "      <td>ཡིན་པ་རེད་</td>\n",
       "      <td>linking verb. usually used with third person s...</td>\n",
       "      <td>GRM</td>\n",
       "    </tr>\n",
       "    <tr>\n",
       "      <th>7</th>\n",
       "      <td>དེ་ནི་</td>\n",
       "      <td>no change in meaning when both ནི་ and a demon...</td>\n",
       "      <td>GRM</td>\n",
       "    </tr>\n",
       "    <tr>\n",
       "      <th>8</th>\n",
       "      <td>ཡིན་པས་</td>\n",
       "      <td>is usually (but not always) used in place of ར...</td>\n",
       "      <td>GRM</td>\n",
       "    </tr>\n",
       "    <tr>\n",
       "      <th>...</th>\n",
       "      <td>...</td>\n",
       "      <td>...</td>\n",
       "      <td>...</td>\n",
       "    </tr>\n",
       "    <tr>\n",
       "      <th>1158917</th>\n",
       "      <td>བསྐྱོད་དུ་མེད་པ་</td>\n",
       "      <td>[s:Aparimitam] {235/55 one ཆོས་མངོན་པ་ལས་འབྱུང...</td>\n",
       "      <td>MV</td>\n",
       "    </tr>\n",
       "    <tr>\n",
       "      <th>1158918</th>\n",
       "      <td>དཔག་ཡས་</td>\n",
       "      <td>[s:Aparimāṇam] {235/56 one ཆོས་མངོན་པ་ལས་འབྱུང...</td>\n",
       "      <td>MV</td>\n",
       "    </tr>\n",
       "    <tr>\n",
       "      <th>1158919</th>\n",
       "      <td>གཞལ་དུ་མེད་པ་</td>\n",
       "      <td>[s:Atulyam] {235/57 one ཆོས་མངོན་པ་ལས་འབྱུང་བའ...</td>\n",
       "      <td>MV</td>\n",
       "    </tr>\n",
       "    <tr>\n",
       "      <th>1158920</th>\n",
       "      <td>གཞལ་གྱིས་མི་ལང་བ་</td>\n",
       "      <td>[s:Amāpyam] {235/58 one ཆོས་མངོན་པ་ལས་འབྱུང་བའ...</td>\n",
       "      <td>MV</td>\n",
       "    </tr>\n",
       "    <tr>\n",
       "      <th>1158921</th>\n",
       "      <td>བསམ་གྱིས་མི་ཁྱབ་པ་</td>\n",
       "      <td>[s:Acintyam] [fn: Both M. and S. add Anabhilāp...</td>\n",
       "      <td>MV</td>\n",
       "    </tr>\n",
       "  </tbody>\n",
       "</table>\n",
       "<p>559795 rows × 3 columns</p>\n",
       "</div>"
      ],
      "text/plain": [
       "                       word  \\\n",
       "1                       ཡན་   \n",
       "2                      རེད་   \n",
       "3                ཡིན་པ་རེད་   \n",
       "7                    དེ་ནི་   \n",
       "8                   ཡིན་པས་   \n",
       "...                     ...   \n",
       "1158917    བསྐྱོད་དུ་མེད་པ་   \n",
       "1158918             དཔག་ཡས་   \n",
       "1158919       གཞལ་དུ་མེད་པ་   \n",
       "1158920   གཞལ་གྱིས་མི་ལང་བ་   \n",
       "1158921  བསམ་གྱིས་མི་ཁྱབ་པ་   \n",
       "\n",
       "                                                   meaning source  \n",
       "1        linking verb. normally used with first person ...    GRM  \n",
       "2        linking verb. usually used with third person s...    GRM  \n",
       "3        linking verb. usually used with third person s...    GRM  \n",
       "7        no change in meaning when both ནི་ and a demon...    GRM  \n",
       "8        is usually (but not always) used in place of ར...    GRM  \n",
       "...                                                    ...    ...  \n",
       "1158917  [s:Aparimitam] {235/55 one ཆོས་མངོན་པ་ལས་འབྱུང...     MV  \n",
       "1158918  [s:Aparimāṇam] {235/56 one ཆོས་མངོན་པ་ལས་འབྱུང...     MV  \n",
       "1158919  [s:Atulyam] {235/57 one ཆོས་མངོན་པ་ལས་འབྱུང་བའ...     MV  \n",
       "1158920  [s:Amāpyam] {235/58 one ཆོས་མངོན་པ་ལས་འབྱུང་བའ...     MV  \n",
       "1158921  [s:Acintyam] [fn: Both M. and S. add Anabhilāp...     MV  \n",
       "\n",
       "[559795 rows x 3 columns]"
      ]
     },
     "execution_count": 16,
     "metadata": {},
     "output_type": "execute_result"
    }
   ],
   "source": [
    "dictionary"
   ]
  },
  {
   "cell_type": "code",
   "execution_count": 6,
   "id": "f37ba345",
   "metadata": {},
   "outputs": [],
   "source": [
    "import sys\n",
    "sys.path.insert(0, '/Users/upstairs/dev/Tibetan-Lookup/')\n",
    "from tibetan_lookup import BuildDictionary"
   ]
  },
  {
   "cell_type": "code",
   "execution_count": 7,
   "id": "9fda3722",
   "metadata": {},
   "outputs": [],
   "source": []
  },
  {
   "cell_type": "code",
   "execution_count": 18,
   "id": "a24451b1",
   "metadata": {
    "scrolled": true
   },
   "outputs": [
    {
     "name": "stderr",
     "output_type": "stream",
     "text": [
      "/Users/upstairs/dev/Tibetan-Lookup/tibetan_lookup/BuildDictionary.py:55: FutureWarning: The error_bad_lines argument has been deprecated and will be removed in a future version.\n",
      "\n",
      "\n",
      "  return self._download_to_dataframe(self._base_url + url)\n",
      "/Users/upstairs/dev/Tibetan-Lookup/tibetan_lookup/BuildDictionary.py:60: FutureWarning: The error_bad_lines argument has been deprecated and will be removed in a future version.\n",
      "\n",
      "\n",
      "  return self._download_to_dataframe(self._base_url + url)\n",
      "/Users/upstairs/dev/Tibetan-Lookup/tibetan_lookup/BuildDictionary.py:65: FutureWarning: The error_bad_lines argument has been deprecated and will be removed in a future version.\n",
      "\n",
      "\n",
      "  return self._download_to_dataframe(self._base_url + url)\n",
      "/Users/upstairs/dev/Tibetan-Lookup/tibetan_lookup/BuildDictionary.py:70: FutureWarning: The error_bad_lines argument has been deprecated and will be removed in a future version.\n",
      "\n",
      "\n",
      "  return self._download_to_dataframe(self._base_url + url)\n",
      "/Users/upstairs/dev/Tibetan-Lookup/tibetan_lookup/BuildDictionary.py:75: FutureWarning: The error_bad_lines argument has been deprecated and will be removed in a future version.\n",
      "\n",
      "\n",
      "  return self._download_to_dataframe(self._base_url + url)\n",
      "/Users/upstairs/dev/Tibetan-Lookup/tibetan_lookup/BuildDictionary.py:80: FutureWarning: The error_bad_lines argument has been deprecated and will be removed in a future version.\n",
      "\n",
      "\n",
      "  return self._download_to_dataframe(self._base_url + url)\n",
      "/Users/upstairs/dev/Tibetan-Lookup/tibetan_lookup/BuildDictionary.py:85: FutureWarning: The error_bad_lines argument has been deprecated and will be removed in a future version.\n",
      "\n",
      "\n",
      "  temp = self._download_to_dataframe(self._base_url + url)\n",
      "/Users/upstairs/dev/Tibetan-Lookup/tibetan_lookup/BuildDictionary.py:87: FutureWarning: The error_bad_lines argument has been deprecated and will be removed in a future version.\n",
      "\n",
      "\n",
      "  temp = temp.append(self._download_to_dataframe(self._base_url + url))\n",
      "/Users/upstairs/dev/Tibetan-Lookup/tibetan_lookup/BuildDictionary.py:89: FutureWarning: The error_bad_lines argument has been deprecated and will be removed in a future version.\n",
      "\n",
      "\n",
      "  return temp.append(self._download_to_dataframe(self._base_url + url))\n",
      "/Users/upstairs/dev/Tibetan-Lookup/tibetan_lookup/BuildDictionary.py:94: FutureWarning: The error_bad_lines argument has been deprecated and will be removed in a future version.\n",
      "\n",
      "\n",
      "  return self._download_to_dataframe(self._base_url + url)\n",
      "/Users/upstairs/dev/Tibetan-Lookup/tibetan_lookup/BuildDictionary.py:99: FutureWarning: The error_bad_lines argument has been deprecated and will be removed in a future version.\n",
      "\n",
      "\n",
      "  return self._download_to_dataframe(self._base_url + url)\n"
     ]
    }
   ],
   "source": [
    "dictionary_v2 = BuildDictionary(mahavyutpatti=True,\n",
    "                                tony_duff=True,\n",
    "                                erik_pema_kunsang=True,\n",
    "                                ives_waldo=True,\n",
    "                                jeffrey_hopkins=True,\n",
    "                                lobsang_monlam=True,\n",
    "                                tibetan_multi=True,\n",
    "                                tibetan_medicine=True,\n",
    "                                verb_lexicon=True)"
   ]
  },
  {
   "cell_type": "code",
   "execution_count": 20,
   "id": "c543efaa",
   "metadata": {},
   "outputs": [
    {
     "data": {
      "text/plain": [
       "{'mahavyutpatti': {'པདྨ་འབྱུང་གནས་': []},\n",
       " 'tony_duff': {'པདྨ་འབྱུང་གནས་': [\"{padma 'byung gnas}༼noun༽ «Padmasaṃbhava». From the Sanskrit «padmasaṃbhava». Lit. «The one who came from a lotus». See under པདྨ་སམྦྷ་ཝ་ Padmasaṃbhava for explanation.\"]},\n",
       " 'erik_pema_kunsang': {'པདྨ་འབྱུང་གནས་': []},\n",
       " 'ives_waldo': {'པདྨ་འབྱུང་གནས་': []},\n",
       " 'jeffrey_hopkins': {'པདྨ་འབྱུང་གནས་': []},\n",
       " 'lobsang_monlam': {'པདྨ་འབྱུང་གནས་': []},\n",
       " 'tibetan_multi': {'པདྨ་འབྱུང་གནས་': []},\n",
       " 'tibetan_medicine': {'པདྨ་འབྱུང་གནས་': []},\n",
       " 'verb_lexicon': {'པདྨ་འབྱུང་གནས་': []}}"
      ]
     },
     "execution_count": 20,
     "metadata": {},
     "output_type": "execute_result"
    }
   ],
   "source": [
    "dictionary_v2.lookup('པདྨ་འབྱུང་གནས་',\n",
    "                     sources=['mahavyutpatti',\n",
    "                              'tony_duff',\n",
    "                              'erik_pema_kunsang',\n",
    "                              'ives_waldo',\n",
    "                              'jeffrey_hopkins',\n",
    "                              'lobsang_monlam',\n",
    "                              'tibetan_multi',\n",
    "                              'tibetan_medicine',\n",
    "                              'verb_lexicon'])"
   ]
  },
  {
   "cell_type": "code",
   "execution_count": 27,
   "id": "a89b4c37",
   "metadata": {},
   "outputs": [],
   "source": [
    "import pandas as pd\n",
    "\n",
    "out = pd.DataFrame()\n",
    "\n",
    "for key in dictionary_v2.dictionaries.keys():\n",
    "    \n",
    "    temp = pd.DataFrame(dictionary_v2.dictionaries[key])\n",
    "    temp['Source'] = key\n",
    "    out = out.append(temp)"
   ]
  },
  {
   "cell_type": "code",
   "execution_count": 2,
   "id": "3d0b2c75",
   "metadata": {},
   "outputs": [],
   "source": [
    "from tibetan_lookup import BuildDictionary"
   ]
  },
  {
   "cell_type": "code",
   "execution_count": 3,
   "id": "94a36280",
   "metadata": {},
   "outputs": [
    {
     "data": {
      "text/plain": [
       "<module 'tibetan_lookup.BuildDictionary' from '/Users/upstairs/opt/miniconda3/envs/wip/lib/python3.8/site-packages/tibetan_lookup/BuildDictionary.py'>"
      ]
     },
     "execution_count": 3,
     "metadata": {},
     "output_type": "execute_result"
    }
   ],
   "source": [
    "BuildDictionary.BuildDictionary()"
   ]
  },
  {
   "cell_type": "code",
   "execution_count": 28,
   "id": "12b8f598",
   "metadata": {},
   "outputs": [
    {
     "data": {
      "text/html": [
       "<div>\n",
       "<style scoped>\n",
       "    .dataframe tbody tr th:only-of-type {\n",
       "        vertical-align: middle;\n",
       "    }\n",
       "\n",
       "    .dataframe tbody tr th {\n",
       "        vertical-align: top;\n",
       "    }\n",
       "\n",
       "    .dataframe thead th {\n",
       "        text-align: right;\n",
       "    }\n",
       "</style>\n",
       "<table border=\"1\" class=\"dataframe\">\n",
       "  <thead>\n",
       "    <tr style=\"text-align: right;\">\n",
       "      <th></th>\n",
       "      <th>Tibetan</th>\n",
       "      <th>Description</th>\n",
       "      <th>Source</th>\n",
       "    </tr>\n",
       "  </thead>\n",
       "  <tbody>\n",
       "    <tr>\n",
       "      <th>51107</th>\n",
       "      <td>ཆོས་མངོན་པར་རྟོགས་པ་</td>\n",
       "      <td>true realization of things</td>\n",
       "      <td>erik_pema_kunsang</td>\n",
       "    </tr>\n",
       "    <tr>\n",
       "      <th>33902</th>\n",
       "      <td>@@@</td>\n",
       "      <td>༢) ཁོ་ན་སྟེ་དོན་གཞན་འགོག་པའི་ཚིག་གྲོགས་ཤིག་  མ...</td>\n",
       "      <td>tibetan_multi</td>\n",
       "    </tr>\n",
       "    <tr>\n",
       "      <th>52428</th>\n",
       "      <td>སེམས་དད་པ་གཅིག་ཙམ་</td>\n",
       "      <td>one mere thought of faith</td>\n",
       "      <td>lobsang_monlam</td>\n",
       "    </tr>\n",
       "    <tr>\n",
       "      <th>107786</th>\n",
       "      <td>ནེམ་ནེམ་བྱེད་པའི་ས་གཞི་</td>\n",
       "      <td>quaking/ collapsing earth</td>\n",
       "      <td>ives_waldo</td>\n",
       "    </tr>\n",
       "    <tr>\n",
       "      <th>3731</th>\n",
       "      <td>ཁ་བ་ཅན་གྱི་ཡུལ་</td>\n",
       "      <td>country of snow</td>\n",
       "      <td>lobsang_monlam</td>\n",
       "    </tr>\n",
       "    <tr>\n",
       "      <th>...</th>\n",
       "      <td>...</td>\n",
       "      <td>...</td>\n",
       "      <td>...</td>\n",
       "    </tr>\n",
       "    <tr>\n",
       "      <th>89825</th>\n",
       "      <td>ཁ་གཅིག་ལྕེ་གཉིས་</td>\n",
       "      <td>1 mouth two stories</td>\n",
       "      <td>ives_waldo</td>\n",
       "    </tr>\n",
       "    <tr>\n",
       "      <th>51460</th>\n",
       "      <td>སྤྱི་མཚན་གྱི་མིང་ཚིག་</td>\n",
       "      <td>abstract nouns</td>\n",
       "      <td>erik_pema_kunsang</td>\n",
       "    </tr>\n",
       "    <tr>\n",
       "      <th>12579</th>\n",
       "      <td>བྱ་རྒོད་</td>\n",
       "      <td>bird of prey, vulture &amp;) Vulture</td>\n",
       "      <td>erik_pema_kunsang</td>\n",
       "    </tr>\n",
       "    <tr>\n",
       "      <th>59689</th>\n",
       "      <td>ཆོས་མངོན་པ་མཛོད་ཀྱི་ཚིག་ལེའུར་བྱས་པ་</td>\n",
       "      <td>the Treasury of Abhidharma in Verses</td>\n",
       "      <td>erik_pema_kunsang</td>\n",
       "    </tr>\n",
       "    <tr>\n",
       "      <th>85674</th>\n",
       "      <td>རྟགས་གསལ་གྱི་སྦྱོར་</td>\n",
       "      <td>བ༏་གཏན་ཚིགས་རིགས་པའི་བསྒྲུབ་བྱ་སྒྲུབ་བྱེད་ཀྱི་...</td>\n",
       "      <td>tibetan_multi</td>\n",
       "    </tr>\n",
       "  </tbody>\n",
       "</table>\n",
       "<p>100 rows × 3 columns</p>\n",
       "</div>"
      ],
      "text/plain": [
       "                                     Tibetan  \\\n",
       "51107                   ཆོས་མངོན་པར་རྟོགས་པ་   \n",
       "33902                                    @@@   \n",
       "52428                     སེམས་དད་པ་གཅིག་ཙམ་   \n",
       "107786               ནེམ་ནེམ་བྱེད་པའི་ས་གཞི་   \n",
       "3731                         ཁ་བ་ཅན་གྱི་ཡུལ་   \n",
       "...                                      ...   \n",
       "89825                       ཁ་གཅིག་ལྕེ་གཉིས་   \n",
       "51460                  སྤྱི་མཚན་གྱི་མིང་ཚིག་   \n",
       "12579                               བྱ་རྒོད་   \n",
       "59689   ཆོས་མངོན་པ་མཛོད་ཀྱི་ཚིག་ལེའུར་བྱས་པ་   \n",
       "85674                    རྟགས་གསལ་གྱི་སྦྱོར་   \n",
       "\n",
       "                                              Description             Source  \n",
       "51107                          true realization of things  erik_pema_kunsang  \n",
       "33902   ༢) ཁོ་ན་སྟེ་དོན་གཞན་འགོག་པའི་ཚིག་གྲོགས་ཤིག་  མ...      tibetan_multi  \n",
       "52428                           one mere thought of faith     lobsang_monlam  \n",
       "107786                          quaking/ collapsing earth         ives_waldo  \n",
       "3731                                      country of snow     lobsang_monlam  \n",
       "...                                                   ...                ...  \n",
       "89825                                 1 mouth two stories         ives_waldo  \n",
       "51460                                      abstract nouns  erik_pema_kunsang  \n",
       "12579                    bird of prey, vulture &) Vulture  erik_pema_kunsang  \n",
       "59689                the Treasury of Abhidharma in Verses  erik_pema_kunsang  \n",
       "85674   བ༏་གཏན་ཚིགས་རིགས་པའི་བསྒྲུབ་བྱ་སྒྲུབ་བྱེད་ཀྱི་...      tibetan_multi  \n",
       "\n",
       "[100 rows x 3 columns]"
      ]
     },
     "execution_count": 28,
     "metadata": {},
     "output_type": "execute_result"
    }
   ],
   "source": [
    "out.sample(100)"
   ]
  },
  {
   "cell_type": "code",
   "execution_count": null,
   "id": "86d254bb",
   "metadata": {},
   "outputs": [],
   "source": []
  }
 ],
 "metadata": {
  "kernelspec": {
   "display_name": "Python 3 (ipykernel)",
   "language": "python",
   "name": "python3"
  },
  "language_info": {
   "codemirror_mode": {
    "name": "ipython",
    "version": 3
   },
   "file_extension": ".py",
   "mimetype": "text/x-python",
   "name": "python",
   "nbconvert_exporter": "python",
   "pygments_lexer": "ipython3",
   "version": "3.8.11"
  }
 },
 "nbformat": 4,
 "nbformat_minor": 5
}
