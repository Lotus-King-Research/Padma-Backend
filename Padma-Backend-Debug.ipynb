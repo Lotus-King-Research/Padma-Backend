{
 "cells": [
  {
   "cell_type": "code",
   "execution_count": 1,
   "id": "8d9040d2",
   "metadata": {},
   "outputs": [
    {
     "name": "stdout",
     "output_type": "stream",
     "text": [
      "Loading Trie... (1s.)\n"
     ]
    }
   ],
   "source": [
    "from app.utils.initialize import initialize_meta\n",
    "from app.utils.initialize import initialize_dictionary\n",
    "from app.utils.initialize import initialize_tokens\n",
    "from app.utils.initialize import initialize_texts\n",
    "from app.utils.initialize import initialize_index\n",
    "from app.utils.initialize import initialize_locations"
   ]
  },
  {
   "cell_type": "code",
   "execution_count": 2,
   "id": "e92a49fc",
   "metadata": {},
   "outputs": [],
   "source": [
    "meta = initialize_meta()\n",
    "dictionary = initialize_dictionary()\n",
    "tokens = initialize_tokens()\n",
    "texts = initialize_texts()\n",
    "index = initialize_index()\n",
    "locations = initialize_locations()"
   ]
  },
  {
   "cell_type": "code",
   "execution_count": 3,
   "id": "aaf02d4b",
   "metadata": {},
   "outputs": [
    {
     "name": "stdout",
     "output_type": "stream",
     "text": [
      "Loading Trie... (1s.)\n"
     ]
    }
   ],
   "source": [
    "from app.utils.tokenization import tokenization\n",
    "from app.utils.tokenization import init_tokenizer\n",
    "tokenizer = init_tokenizer()"
   ]
  },
  {
   "cell_type": "code",
   "execution_count": 6,
   "id": "a6f9cbb4",
   "metadata": {},
   "outputs": [],
   "source": [
    "from app.utils.text_search import text_search"
   ]
  },
  {
   "cell_type": "code",
   "execution_count": null,
   "id": "f017195b",
   "metadata": {},
   "outputs": [],
   "source": []
  },
  {
   "cell_type": "code",
   "execution_count": null,
   "id": "382f7ba2",
   "metadata": {},
   "outputs": [],
   "source": []
  }
 ],
 "metadata": {
  "kernelspec": {
   "display_name": "Python 3 (ipykernel)",
   "language": "python",
   "name": "python3"
  },
  "language_info": {
   "codemirror_mode": {
    "name": "ipython",
    "version": 3
   },
   "file_extension": ".py",
   "mimetype": "text/x-python",
   "name": "python",
   "nbconvert_exporter": "python",
   "pygments_lexer": "ipython3",
   "version": "3.8.11"
  }
 },
 "nbformat": 4,
 "nbformat_minor": 5
}
