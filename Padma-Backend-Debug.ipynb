{
 "cells": [
  {
   "cell_type": "code",
   "execution_count": 1,
   "id": "8d9040d2",
   "metadata": {},
   "outputs": [
    {
     "name": "stdout",
     "output_type": "stream",
     "text": [
      "Loading Trie... (1s.)\n"
     ]
    }
   ],
   "source": [
    "from app.utils.initialize import initialize_meta\n",
    "from app.utils.initialize import initialize_dictionary\n",
    "from app.utils.initialize import initialize_tokens\n",
    "from app.utils.initialize import initialize_texts\n",
    "from app.utils.initialize import initialize_index\n",
    "from app.utils.initialize import initialize_locations"
   ]
  },
  {
   "cell_type": "code",
   "execution_count": 2,
   "id": "e92a49fc",
   "metadata": {},
   "outputs": [],
   "source": [
    "meta = initialize_meta()\n",
    "dictionary = initialize_dictionary()\n",
    "tokens = initialize_tokens()\n",
    "texts = initialize_texts()\n",
    "index = initialize_index()\n",
    "locations = initialize_locations()"
   ]
  },
  {
   "cell_type": "code",
   "execution_count": 3,
   "id": "aaf02d4b",
   "metadata": {},
   "outputs": [
    {
     "name": "stdout",
     "output_type": "stream",
     "text": [
      "Loading Trie... (1s.)\n"
     ]
    }
   ],
   "source": [
    "from app.utils.tokenization import tokenization\n",
    "from app.utils.tokenization import init_tokenizer\n",
    "tokenizer = init_tokenizer()"
   ]
  },
  {
   "cell_type": "code",
   "execution_count": 4,
   "id": "a6f9cbb4",
   "metadata": {},
   "outputs": [],
   "source": [
    "from app.utils.text_search import text_search"
   ]
  },
  {
   "cell_type": "code",
   "execution_count": 14,
   "id": "01b34d94",
   "metadata": {},
   "outputs": [],
   "source": [
    "def _download_tokens():\n",
    "\n",
    "    import zipfile\n",
    "\n",
    "    url='https://github.com/Lotus-King-Research/Rinchen-Terdzo-Tokenized/raw/master/tokens/tokens.zip'\n",
    "    print(\"Downloading tokens:\")\n",
    "    wget.download(url)\n",
    "\n",
    "    with zipfile.ZipFile('tokens.zip', 'r') as zf:\n",
    "        zf.extractall('/tmp/tokens/')"
   ]
  },
  {
   "cell_type": "code",
   "execution_count": 15,
   "id": "5e7f7a4c",
   "metadata": {},
   "outputs": [],
   "source": [
    "from os import path"
   ]
  },
  {
   "cell_type": "code",
   "execution_count": 1,
   "id": "615ff55e",
   "metadata": {},
   "outputs": [],
   "source": [
    "import signs"
   ]
  },
  {
   "cell_type": "code",
   "execution_count": 3,
   "id": "2d7dc25c",
   "metadata": {},
   "outputs": [
    {
     "data": {
      "text/plain": [
       "{'test': 2, 'test1': 1}"
      ]
     },
     "execution_count": 3,
     "metadata": {},
     "output_type": "execute_result"
    }
   ],
   "source": [
    "signs.Describe(['test', 'test', 'test1']).get_counts()"
   ]
  },
  {
   "cell_type": "code",
   "execution_count": 4,
   "id": "6b12e54f",
   "metadata": {},
   "outputs": [],
   "source": [
    "from collections import Counter"
   ]
  },
  {
   "cell_type": "code",
   "execution_count": 8,
   "id": "721b8345",
   "metadata": {},
   "outputs": [
    {
     "data": {
      "text/plain": [
       "{'test': 2, 'test1': 1}"
      ]
     },
     "execution_count": 8,
     "metadata": {},
     "output_type": "execute_result"
    }
   ],
   "source": [
    "dict(Counter(['test', 'test', 'test1']))"
   ]
  },
  {
   "cell_type": "code",
   "execution_count": null,
   "id": "9db6f1c8",
   "metadata": {},
   "outputs": [],
   "source": []
  }
 ],
 "metadata": {
  "kernelspec": {
   "display_name": "Python 3 (ipykernel)",
   "language": "python",
   "name": "python3"
  },
  "language_info": {
   "codemirror_mode": {
    "name": "ipython",
    "version": 3
   },
   "file_extension": ".py",
   "mimetype": "text/x-python",
   "name": "python",
   "nbconvert_exporter": "python",
   "pygments_lexer": "ipython3",
   "version": "3.8.11"
  }
 },
 "nbformat": 4,
 "nbformat_minor": 5
}
